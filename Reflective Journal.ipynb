{
 "cells": [
  {
   "cell_type": "markdown",
   "id": "140b1412",
   "metadata": {},
   "source": [
    "# Week 1: New sem, better me(i hope)"
   ]
  },
  {
   "cell_type": "markdown",
   "id": "5ef2e241",
   "metadata": {},
   "source": [
    "Last semester, my group and I worked on the Melbourne housing data project. Initially, we struggled with some members being absent on the first week, but those of us present remained committed and worked collaboratively to narrow our focus and outline some research questions. Our primary challenge was, surprisingly, not in this part but in the presentation time. We needed to trim out our presentation from an initial 25 minutes to the required 10 minutes. Through continuous revisions and feedback, we eventually achieved a polished, rehearsed 13-minute presentation and prepared a good poster for the session. I felt a sense of pride in the final result. The initial absenteeism was disheartening, but our group's dedication was inspiring (accidental rhyme). The whole process of refining our presentation was challenging yet rewarding.\n",
    "\n",
    "Overall, the project turned out well. Our teamwork and dedication allowed us to overcome initial setbacks and produce a high-quality presentation and poster. However, this experience highlighted the importance of consistent attendance and early time management to avoid last-minute rushes. The key success factors were effective communication and collaborative problem-solving. We learned to give and receive constructive feedback, which significantly improved our presentation. However, our initial lack of attendance and time management led to unnecessary stress and could have jeopardized our project.\n",
    "\n",
    "In conclusion, In future projects, establishing clear attendance expectations and starting with a more structured timeline would mitigate the risk of falling behind and ensure that everyone contributes effectively from the beginning. To improve, I will propose setting regular meeting times and clearly defined roles for the project. "
   ]
  }
 ],
 "metadata": {
  "kernelspec": {
   "display_name": "Python 3 (ipykernel)",
   "language": "python",
   "name": "python3"
  },
  "language_info": {
   "codemirror_mode": {
    "name": "ipython",
    "version": 3
   },
   "file_extension": ".py",
   "mimetype": "text/x-python",
   "name": "python",
   "nbconvert_exporter": "python",
   "pygments_lexer": "ipython3",
   "version": "3.11.5"
  }
 },
 "nbformat": 4,
 "nbformat_minor": 5
}
