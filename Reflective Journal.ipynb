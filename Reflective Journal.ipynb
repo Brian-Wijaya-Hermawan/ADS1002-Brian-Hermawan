{
 "cells": [
  {
   "cell_type": "markdown",
   "id": "140b1412",
   "metadata": {},
   "source": [
    "# Week 1: New sem, better me(i hope)"
   ]
  },
  {
   "cell_type": "markdown",
   "id": "5ef2e241",
   "metadata": {},
   "source": [
    "Last semester, my group and I worked on the Melbourne housing data project. Initially, we struggled with some members being absent on the first week, but those of us present remained committed and worked collaboratively to narrow our focus and outline some research questions. Our primary challenge was, surprisingly, not in this part but in the presentation time. We needed to trim out our presentation from an initial 25 minutes to the required 10 minutes. Through continuous revisions and feedback, we eventually achieved a polished, rehearsed 13-minute presentation and prepared a good poster for the session. I felt a sense of pride in the final result. The initial absenteeism was disheartening, but our group's dedication was inspiring (accidental rhyme). The whole process of refining our presentation was challenging yet rewarding.\n",
    "\n",
    "Overall, the project turned out well. Our teamwork and dedication allowed us to overcome initial setbacks and produce a high-quality presentation and poster. However, this experience highlighted the importance of consistent attendance and early time management to avoid last-minute rushes. The key success factors were effective communication and collaborative problem-solving. We learned to give and receive constructive feedback, which significantly improved our presentation. However, our initial lack of attendance and time management led to unnecessary stress and could have jeopardized our project.\n",
    "\n",
    "In conclusion, In future projects, establishing clear attendance expectations and starting with a more structured timeline would mitigate the risk of falling behind and ensure that everyone contributes effectively from the beginning. To improve, I will propose setting regular meeting times and clearly defined roles for the project. "
   ]
  },
  {
   "cell_type": "markdown",
   "id": "d33dd771",
   "metadata": {},
   "source": [
    "# Week 2-3: I fell sick on Week 3"
   ]
  },
  {
   "cell_type": "markdown",
   "id": "3aca8c00",
   "metadata": {},
   "source": [
    "In Week 2, we formed teams to start a new project on sales forecasting for Rossmann stores. Our initial discussions were productive, with everyone present and contributing valuable ideas. We outlined a somewhat clear direction for our project and began preliminary data cleaning. Each member was then tasked with understanding the project scope to prepare for coding in Week 3. Unfortunately, in Week 3, both I and another team member fell ill and were unable to attend the sessions, which was disheartening. \n",
    "\n",
    "Our momentum was disrupted, missing out on crucial discussions and initial coding sessions left me feeling anxious and concerned about catching up. The illness highlighted the fragility of our group dynamics when members are absent. It underscored the importance of contingency plans and effective communication to ensure that everyone stays on track, even when unexpected events occur. This problem is thankfully minimized due to the structure where we could be given task to do in our own time, hence even missing members could contribute to the project. Additionally, assigning backup roles or creating more detailed documentation could help mitigate the impact of unexpected absences.\n",
    "\n",
    "Moving forward, I will suggest setting up a shared online space for real-time updates and progress tracking. At the moment of writing this reflection, the shared online space has been established; however, progress tracking hasn't been implemented. This will allow those who are absent to stay informed and contribute as much as possible from afar. I will also make a concerted effort to catch up on the missed work from Week 3 by coordinating with my team members and reviewing any notes or recordings from the sessions I missed."
   ]
  },
  {
   "cell_type": "code",
   "execution_count": null,
   "id": "ea8e4463",
   "metadata": {},
   "outputs": [],
   "source": []
  }
 ],
 "metadata": {
  "kernelspec": {
   "display_name": "Python 3 (ipykernel)",
   "language": "python",
   "name": "python3"
  },
  "language_info": {
   "codemirror_mode": {
    "name": "ipython",
    "version": 3
   },
   "file_extension": ".py",
   "mimetype": "text/x-python",
   "name": "python",
   "nbconvert_exporter": "python",
   "pygments_lexer": "ipython3",
   "version": "3.11.5"
  }
 },
 "nbformat": 4,
 "nbformat_minor": 5
}
